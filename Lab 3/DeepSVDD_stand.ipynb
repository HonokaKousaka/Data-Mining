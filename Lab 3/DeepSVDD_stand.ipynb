{
 "cells": [
  {
   "cell_type": "markdown",
   "metadata": {},
   "source": [
    "## 异常检测 - DeepOD"
   ]
  },
  {
   "cell_type": "code",
   "execution_count": 1,
   "metadata": {},
   "outputs": [],
   "source": [
    "import numpy as np\n",
    "import pandas as pd\n",
    "import time as time\n",
    "import torch\n",
    "from sklearn.metrics import precision_recall_curve, roc_auc_score, accuracy_score, roc_curve, auc\n",
    "import matplotlib.pyplot as plt\n",
    "from deepod.models.tabular import DeepSVDD\n",
    "from sklearn.preprocessing import StandardScaler"
   ]
  },
  {
   "cell_type": "markdown",
   "metadata": {},
   "source": [
    "#### 训练集（标准化）"
   ]
  },
  {
   "cell_type": "code",
   "execution_count": 2,
   "metadata": {},
   "outputs": [],
   "source": [
    "train_data = pd.read_csv(\"train_data.csv\", skiprows=1, header=None)\n",
    "test_data = pd.read_csv(\"test_data.csv\", skiprows=1, header=None)"
   ]
  },
  {
   "cell_type": "code",
   "execution_count": 3,
   "metadata": {},
   "outputs": [
    {
     "data": {
      "text/html": [
       "<div>\n",
       "<style scoped>\n",
       "    .dataframe tbody tr th:only-of-type {\n",
       "        vertical-align: middle;\n",
       "    }\n",
       "\n",
       "    .dataframe tbody tr th {\n",
       "        vertical-align: top;\n",
       "    }\n",
       "\n",
       "    .dataframe thead th {\n",
       "        text-align: right;\n",
       "    }\n",
       "</style>\n",
       "<table border=\"1\" class=\"dataframe\">\n",
       "  <thead>\n",
       "    <tr style=\"text-align: right;\">\n",
       "      <th></th>\n",
       "      <th>0</th>\n",
       "      <th>1</th>\n",
       "      <th>2</th>\n",
       "      <th>3</th>\n",
       "      <th>4</th>\n",
       "      <th>5</th>\n",
       "      <th>6</th>\n",
       "      <th>7</th>\n",
       "      <th>8</th>\n",
       "      <th>9</th>\n",
       "      <th>...</th>\n",
       "      <th>189</th>\n",
       "      <th>190</th>\n",
       "      <th>191</th>\n",
       "      <th>192</th>\n",
       "      <th>193</th>\n",
       "      <th>194</th>\n",
       "      <th>195</th>\n",
       "      <th>196</th>\n",
       "      <th>197</th>\n",
       "      <th>198</th>\n",
       "    </tr>\n",
       "  </thead>\n",
       "  <tbody>\n",
       "    <tr>\n",
       "      <th>0</th>\n",
       "      <td>0</td>\n",
       "      <td>0.115937</td>\n",
       "      <td>72</td>\n",
       "      <td>74</td>\n",
       "      <td>4238</td>\n",
       "      <td>63516</td>\n",
       "      <td>1250.679227</td>\n",
       "      <td>31</td>\n",
       "      <td>29</td>\n",
       "      <td>2.884325e+05</td>\n",
       "      <td>...</td>\n",
       "      <td>False</td>\n",
       "      <td>True</td>\n",
       "      <td>False</td>\n",
       "      <td>False</td>\n",
       "      <td>False</td>\n",
       "      <td>False</td>\n",
       "      <td>False</td>\n",
       "      <td>False</td>\n",
       "      <td>Normal</td>\n",
       "      <td>0</td>\n",
       "    </tr>\n",
       "    <tr>\n",
       "      <th>1</th>\n",
       "      <td>1</td>\n",
       "      <td>0.257944</td>\n",
       "      <td>8</td>\n",
       "      <td>12</td>\n",
       "      <td>424</td>\n",
       "      <td>8824</td>\n",
       "      <td>73.659402</td>\n",
       "      <td>31</td>\n",
       "      <td>29</td>\n",
       "      <td>1.150637e+04</td>\n",
       "      <td>...</td>\n",
       "      <td>False</td>\n",
       "      <td>True</td>\n",
       "      <td>False</td>\n",
       "      <td>False</td>\n",
       "      <td>False</td>\n",
       "      <td>False</td>\n",
       "      <td>False</td>\n",
       "      <td>False</td>\n",
       "      <td>Normal</td>\n",
       "      <td>0</td>\n",
       "    </tr>\n",
       "    <tr>\n",
       "      <th>2</th>\n",
       "      <td>2</td>\n",
       "      <td>0.000007</td>\n",
       "      <td>2</td>\n",
       "      <td>0</td>\n",
       "      <td>900</td>\n",
       "      <td>0</td>\n",
       "      <td>142857.140900</td>\n",
       "      <td>254</td>\n",
       "      <td>0</td>\n",
       "      <td>5.142857e+08</td>\n",
       "      <td>...</td>\n",
       "      <td>False</td>\n",
       "      <td>False</td>\n",
       "      <td>True</td>\n",
       "      <td>False</td>\n",
       "      <td>False</td>\n",
       "      <td>False</td>\n",
       "      <td>False</td>\n",
       "      <td>False</td>\n",
       "      <td>Normal</td>\n",
       "      <td>0</td>\n",
       "    </tr>\n",
       "    <tr>\n",
       "      <th>3</th>\n",
       "      <td>3</td>\n",
       "      <td>0.052844</td>\n",
       "      <td>60</td>\n",
       "      <td>62</td>\n",
       "      <td>3614</td>\n",
       "      <td>50036</td>\n",
       "      <td>2289.758573</td>\n",
       "      <td>31</td>\n",
       "      <td>29</td>\n",
       "      <td>5.380365e+05</td>\n",
       "      <td>...</td>\n",
       "      <td>False</td>\n",
       "      <td>True</td>\n",
       "      <td>False</td>\n",
       "      <td>False</td>\n",
       "      <td>False</td>\n",
       "      <td>False</td>\n",
       "      <td>False</td>\n",
       "      <td>False</td>\n",
       "      <td>Normal</td>\n",
       "      <td>0</td>\n",
       "    </tr>\n",
       "    <tr>\n",
       "      <th>4</th>\n",
       "      <td>4</td>\n",
       "      <td>0.001032</td>\n",
       "      <td>2</td>\n",
       "      <td>2</td>\n",
       "      <td>146</td>\n",
       "      <td>178</td>\n",
       "      <td>2906.976908</td>\n",
       "      <td>31</td>\n",
       "      <td>29</td>\n",
       "      <td>5.658915e+05</td>\n",
       "      <td>...</td>\n",
       "      <td>False</td>\n",
       "      <td>False</td>\n",
       "      <td>False</td>\n",
       "      <td>False</td>\n",
       "      <td>False</td>\n",
       "      <td>False</td>\n",
       "      <td>False</td>\n",
       "      <td>False</td>\n",
       "      <td>Normal</td>\n",
       "      <td>0</td>\n",
       "    </tr>\n",
       "  </tbody>\n",
       "</table>\n",
       "<p>5 rows × 199 columns</p>\n",
       "</div>"
      ],
      "text/plain": [
       "   0         1    2    3     4      5              6    7    8    \\\n",
       "0    0  0.115937   72   74  4238  63516    1250.679227   31   29   \n",
       "1    1  0.257944    8   12   424   8824      73.659402   31   29   \n",
       "2    2  0.000007    2    0   900      0  142857.140900  254    0   \n",
       "3    3  0.052844   60   62  3614  50036    2289.758573   31   29   \n",
       "4    4  0.001032    2    2   146    178    2906.976908   31   29   \n",
       "\n",
       "            9    ...    189    190    191    192    193    194    195    196  \\\n",
       "0  2.884325e+05  ...  False   True  False  False  False  False  False  False   \n",
       "1  1.150637e+04  ...  False   True  False  False  False  False  False  False   \n",
       "2  5.142857e+08  ...  False  False   True  False  False  False  False  False   \n",
       "3  5.380365e+05  ...  False   True  False  False  False  False  False  False   \n",
       "4  5.658915e+05  ...  False  False  False  False  False  False  False  False   \n",
       "\n",
       "      197  198  \n",
       "0  Normal    0  \n",
       "1  Normal    0  \n",
       "2  Normal    0  \n",
       "3  Normal    0  \n",
       "4  Normal    0  \n",
       "\n",
       "[5 rows x 199 columns]"
      ]
     },
     "execution_count": 3,
     "metadata": {},
     "output_type": "execute_result"
    }
   ],
   "source": [
    "train_data.head()"
   ]
  },
  {
   "cell_type": "code",
   "execution_count": 4,
   "metadata": {},
   "outputs": [
    {
     "data": {
      "text/html": [
       "<div>\n",
       "<style scoped>\n",
       "    .dataframe tbody tr th:only-of-type {\n",
       "        vertical-align: middle;\n",
       "    }\n",
       "\n",
       "    .dataframe tbody tr th {\n",
       "        vertical-align: top;\n",
       "    }\n",
       "\n",
       "    .dataframe thead th {\n",
       "        text-align: right;\n",
       "    }\n",
       "</style>\n",
       "<table border=\"1\" class=\"dataframe\">\n",
       "  <thead>\n",
       "    <tr style=\"text-align: right;\">\n",
       "      <th></th>\n",
       "      <th>0</th>\n",
       "      <th>1</th>\n",
       "      <th>2</th>\n",
       "      <th>3</th>\n",
       "      <th>4</th>\n",
       "      <th>5</th>\n",
       "      <th>6</th>\n",
       "      <th>7</th>\n",
       "      <th>8</th>\n",
       "      <th>9</th>\n",
       "      <th>...</th>\n",
       "      <th>189</th>\n",
       "      <th>190</th>\n",
       "      <th>191</th>\n",
       "      <th>192</th>\n",
       "      <th>193</th>\n",
       "      <th>194</th>\n",
       "      <th>195</th>\n",
       "      <th>196</th>\n",
       "      <th>197</th>\n",
       "      <th>198</th>\n",
       "    </tr>\n",
       "  </thead>\n",
       "  <tbody>\n",
       "    <tr>\n",
       "      <th>0</th>\n",
       "      <td>0</td>\n",
       "      <td>0.600851</td>\n",
       "      <td>6</td>\n",
       "      <td>2</td>\n",
       "      <td>978</td>\n",
       "      <td>86</td>\n",
       "      <td>11.650143</td>\n",
       "      <td>62</td>\n",
       "      <td>252</td>\n",
       "      <td>1.085128e+04</td>\n",
       "      <td>...</td>\n",
       "      <td>False</td>\n",
       "      <td>False</td>\n",
       "      <td>False</td>\n",
       "      <td>False</td>\n",
       "      <td>False</td>\n",
       "      <td>False</td>\n",
       "      <td>False</td>\n",
       "      <td>False</td>\n",
       "      <td>Normal</td>\n",
       "      <td>0</td>\n",
       "    </tr>\n",
       "    <tr>\n",
       "      <th>1</th>\n",
       "      <td>1</td>\n",
       "      <td>0.000944</td>\n",
       "      <td>2</td>\n",
       "      <td>2</td>\n",
       "      <td>130</td>\n",
       "      <td>162</td>\n",
       "      <td>3177.966006</td>\n",
       "      <td>31</td>\n",
       "      <td>29</td>\n",
       "      <td>5.508474e+05</td>\n",
       "      <td>...</td>\n",
       "      <td>False</td>\n",
       "      <td>False</td>\n",
       "      <td>False</td>\n",
       "      <td>False</td>\n",
       "      <td>False</td>\n",
       "      <td>False</td>\n",
       "      <td>False</td>\n",
       "      <td>False</td>\n",
       "      <td>Normal</td>\n",
       "      <td>0</td>\n",
       "    </tr>\n",
       "    <tr>\n",
       "      <th>2</th>\n",
       "      <td>2</td>\n",
       "      <td>0.001040</td>\n",
       "      <td>2</td>\n",
       "      <td>2</td>\n",
       "      <td>146</td>\n",
       "      <td>178</td>\n",
       "      <td>2884.615377</td>\n",
       "      <td>31</td>\n",
       "      <td>29</td>\n",
       "      <td>5.615384e+05</td>\n",
       "      <td>...</td>\n",
       "      <td>False</td>\n",
       "      <td>False</td>\n",
       "      <td>False</td>\n",
       "      <td>False</td>\n",
       "      <td>False</td>\n",
       "      <td>False</td>\n",
       "      <td>False</td>\n",
       "      <td>False</td>\n",
       "      <td>Normal</td>\n",
       "      <td>0</td>\n",
       "    </tr>\n",
       "    <tr>\n",
       "      <th>3</th>\n",
       "      <td>3</td>\n",
       "      <td>1.052931</td>\n",
       "      <td>10</td>\n",
       "      <td>10</td>\n",
       "      <td>804</td>\n",
       "      <td>1152</td>\n",
       "      <td>18.044868</td>\n",
       "      <td>62</td>\n",
       "      <td>252</td>\n",
       "      <td>5.500835e+03</td>\n",
       "      <td>...</td>\n",
       "      <td>False</td>\n",
       "      <td>True</td>\n",
       "      <td>False</td>\n",
       "      <td>False</td>\n",
       "      <td>False</td>\n",
       "      <td>False</td>\n",
       "      <td>False</td>\n",
       "      <td>False</td>\n",
       "      <td>Normal</td>\n",
       "      <td>0</td>\n",
       "    </tr>\n",
       "    <tr>\n",
       "      <th>4</th>\n",
       "      <td>4</td>\n",
       "      <td>0.000005</td>\n",
       "      <td>2</td>\n",
       "      <td>0</td>\n",
       "      <td>200</td>\n",
       "      <td>0</td>\n",
       "      <td>200000.005100</td>\n",
       "      <td>254</td>\n",
       "      <td>0</td>\n",
       "      <td>1.600000e+08</td>\n",
       "      <td>...</td>\n",
       "      <td>False</td>\n",
       "      <td>False</td>\n",
       "      <td>True</td>\n",
       "      <td>False</td>\n",
       "      <td>False</td>\n",
       "      <td>False</td>\n",
       "      <td>False</td>\n",
       "      <td>False</td>\n",
       "      <td>Analysis</td>\n",
       "      <td>1</td>\n",
       "    </tr>\n",
       "  </tbody>\n",
       "</table>\n",
       "<p>5 rows × 199 columns</p>\n",
       "</div>"
      ],
      "text/plain": [
       "   0         1    2    3    4     5              6    7    8             9    \\\n",
       "0    0  0.600851    6    2  978    86      11.650143   62  252  1.085128e+04   \n",
       "1    1  0.000944    2    2  130   162    3177.966006   31   29  5.508474e+05   \n",
       "2    2  0.001040    2    2  146   178    2884.615377   31   29  5.615384e+05   \n",
       "3    3  1.052931   10   10  804  1152      18.044868   62  252  5.500835e+03   \n",
       "4    4  0.000005    2    0  200     0  200000.005100  254    0  1.600000e+08   \n",
       "\n",
       "   ...    189    190    191    192    193    194    195    196       197  198  \n",
       "0  ...  False  False  False  False  False  False  False  False    Normal    0  \n",
       "1  ...  False  False  False  False  False  False  False  False    Normal    0  \n",
       "2  ...  False  False  False  False  False  False  False  False    Normal    0  \n",
       "3  ...  False   True  False  False  False  False  False  False    Normal    0  \n",
       "4  ...  False  False   True  False  False  False  False  False  Analysis    1  \n",
       "\n",
       "[5 rows x 199 columns]"
      ]
     },
     "execution_count": 4,
     "metadata": {},
     "output_type": "execute_result"
    }
   ],
   "source": [
    "test_data.head()"
   ]
  },
  {
   "cell_type": "code",
   "execution_count": 5,
   "metadata": {},
   "outputs": [],
   "source": [
    "y_train = train_data[198]\n",
    "attributes = train_data.iloc[:, 1:-2]"
   ]
  },
  {
   "cell_type": "code",
   "execution_count": 6,
   "metadata": {},
   "outputs": [
    {
     "data": {
      "text/html": [
       "<div>\n",
       "<style scoped>\n",
       "    .dataframe tbody tr th:only-of-type {\n",
       "        vertical-align: middle;\n",
       "    }\n",
       "\n",
       "    .dataframe tbody tr th {\n",
       "        vertical-align: top;\n",
       "    }\n",
       "\n",
       "    .dataframe thead th {\n",
       "        text-align: right;\n",
       "    }\n",
       "</style>\n",
       "<table border=\"1\" class=\"dataframe\">\n",
       "  <thead>\n",
       "    <tr style=\"text-align: right;\">\n",
       "      <th></th>\n",
       "      <th>1</th>\n",
       "      <th>2</th>\n",
       "      <th>3</th>\n",
       "      <th>4</th>\n",
       "      <th>5</th>\n",
       "      <th>6</th>\n",
       "      <th>7</th>\n",
       "      <th>8</th>\n",
       "      <th>9</th>\n",
       "      <th>10</th>\n",
       "      <th>...</th>\n",
       "      <th>187</th>\n",
       "      <th>188</th>\n",
       "      <th>189</th>\n",
       "      <th>190</th>\n",
       "      <th>191</th>\n",
       "      <th>192</th>\n",
       "      <th>193</th>\n",
       "      <th>194</th>\n",
       "      <th>195</th>\n",
       "      <th>196</th>\n",
       "    </tr>\n",
       "  </thead>\n",
       "  <tbody>\n",
       "    <tr>\n",
       "      <th>0</th>\n",
       "      <td>0.115937</td>\n",
       "      <td>72</td>\n",
       "      <td>74</td>\n",
       "      <td>4238</td>\n",
       "      <td>63516</td>\n",
       "      <td>1250.679227</td>\n",
       "      <td>31</td>\n",
       "      <td>29</td>\n",
       "      <td>2.884325e+05</td>\n",
       "      <td>4.323590e+06</td>\n",
       "      <td>...</td>\n",
       "      <td>False</td>\n",
       "      <td>False</td>\n",
       "      <td>False</td>\n",
       "      <td>True</td>\n",
       "      <td>False</td>\n",
       "      <td>False</td>\n",
       "      <td>False</td>\n",
       "      <td>False</td>\n",
       "      <td>False</td>\n",
       "      <td>False</td>\n",
       "    </tr>\n",
       "    <tr>\n",
       "      <th>1</th>\n",
       "      <td>0.257944</td>\n",
       "      <td>8</td>\n",
       "      <td>12</td>\n",
       "      <td>424</td>\n",
       "      <td>8824</td>\n",
       "      <td>73.659402</td>\n",
       "      <td>31</td>\n",
       "      <td>29</td>\n",
       "      <td>1.150637e+04</td>\n",
       "      <td>2.508762e+05</td>\n",
       "      <td>...</td>\n",
       "      <td>False</td>\n",
       "      <td>False</td>\n",
       "      <td>False</td>\n",
       "      <td>True</td>\n",
       "      <td>False</td>\n",
       "      <td>False</td>\n",
       "      <td>False</td>\n",
       "      <td>False</td>\n",
       "      <td>False</td>\n",
       "      <td>False</td>\n",
       "    </tr>\n",
       "    <tr>\n",
       "      <th>2</th>\n",
       "      <td>0.000007</td>\n",
       "      <td>2</td>\n",
       "      <td>0</td>\n",
       "      <td>900</td>\n",
       "      <td>0</td>\n",
       "      <td>142857.140900</td>\n",
       "      <td>254</td>\n",
       "      <td>0</td>\n",
       "      <td>5.142857e+08</td>\n",
       "      <td>0.000000e+00</td>\n",
       "      <td>...</td>\n",
       "      <td>False</td>\n",
       "      <td>False</td>\n",
       "      <td>False</td>\n",
       "      <td>False</td>\n",
       "      <td>True</td>\n",
       "      <td>False</td>\n",
       "      <td>False</td>\n",
       "      <td>False</td>\n",
       "      <td>False</td>\n",
       "      <td>False</td>\n",
       "    </tr>\n",
       "    <tr>\n",
       "      <th>3</th>\n",
       "      <td>0.052844</td>\n",
       "      <td>60</td>\n",
       "      <td>62</td>\n",
       "      <td>3614</td>\n",
       "      <td>50036</td>\n",
       "      <td>2289.758573</td>\n",
       "      <td>31</td>\n",
       "      <td>29</td>\n",
       "      <td>5.380365e+05</td>\n",
       "      <td>7.452729e+06</td>\n",
       "      <td>...</td>\n",
       "      <td>False</td>\n",
       "      <td>False</td>\n",
       "      <td>False</td>\n",
       "      <td>True</td>\n",
       "      <td>False</td>\n",
       "      <td>False</td>\n",
       "      <td>False</td>\n",
       "      <td>False</td>\n",
       "      <td>False</td>\n",
       "      <td>False</td>\n",
       "    </tr>\n",
       "    <tr>\n",
       "      <th>4</th>\n",
       "      <td>0.001032</td>\n",
       "      <td>2</td>\n",
       "      <td>2</td>\n",
       "      <td>146</td>\n",
       "      <td>178</td>\n",
       "      <td>2906.976908</td>\n",
       "      <td>31</td>\n",
       "      <td>29</td>\n",
       "      <td>5.658915e+05</td>\n",
       "      <td>6.899225e+05</td>\n",
       "      <td>...</td>\n",
       "      <td>False</td>\n",
       "      <td>True</td>\n",
       "      <td>False</td>\n",
       "      <td>False</td>\n",
       "      <td>False</td>\n",
       "      <td>False</td>\n",
       "      <td>False</td>\n",
       "      <td>False</td>\n",
       "      <td>False</td>\n",
       "      <td>False</td>\n",
       "    </tr>\n",
       "  </tbody>\n",
       "</table>\n",
       "<p>5 rows × 196 columns</p>\n",
       "</div>"
      ],
      "text/plain": [
       "        1    2    3     4      5              6    7    8             9    \\\n",
       "0  0.115937   72   74  4238  63516    1250.679227   31   29  2.884325e+05   \n",
       "1  0.257944    8   12   424   8824      73.659402   31   29  1.150637e+04   \n",
       "2  0.000007    2    0   900      0  142857.140900  254    0  5.142857e+08   \n",
       "3  0.052844   60   62  3614  50036    2289.758573   31   29  5.380365e+05   \n",
       "4  0.001032    2    2   146    178    2906.976908   31   29  5.658915e+05   \n",
       "\n",
       "            10   ...    187    188    189    190    191    192    193    194  \\\n",
       "0  4.323590e+06  ...  False  False  False   True  False  False  False  False   \n",
       "1  2.508762e+05  ...  False  False  False   True  False  False  False  False   \n",
       "2  0.000000e+00  ...  False  False  False  False   True  False  False  False   \n",
       "3  7.452729e+06  ...  False  False  False   True  False  False  False  False   \n",
       "4  6.899225e+05  ...  False   True  False  False  False  False  False  False   \n",
       "\n",
       "     195    196  \n",
       "0  False  False  \n",
       "1  False  False  \n",
       "2  False  False  \n",
       "3  False  False  \n",
       "4  False  False  \n",
       "\n",
       "[5 rows x 196 columns]"
      ]
     },
     "execution_count": 6,
     "metadata": {},
     "output_type": "execute_result"
    }
   ],
   "source": [
    "attributes.head()"
   ]
  },
  {
   "cell_type": "code",
   "execution_count": 7,
   "metadata": {},
   "outputs": [],
   "source": [
    "attributes = attributes.astype(np.float32)\n",
    "scaler = StandardScaler()\n",
    "for col in attributes.columns:\n",
    "    attributes[col] = scaler.fit_transform(attributes[[col]])\n",
    "y_train = y_train.astype(np.float32)\n",
    "\n",
    "attributes = attributes.to_numpy(dtype=float)\n",
    "y_train = y_train.to_numpy(dtype=float)\n",
    "\n",
    "attributes = torch.tensor(attributes, dtype=torch.float32)\n",
    "y_train = torch.tensor(y_train, dtype=torch.float32)\n",
    "\n",
    "attributes = attributes.numpy()\n",
    "y_train = y_train.numpy()"
   ]
  },
  {
   "cell_type": "code",
   "execution_count": 8,
   "metadata": {},
   "outputs": [],
   "source": [
    "clf = DeepSVDD()"
   ]
  },
  {
   "cell_type": "code",
   "execution_count": 9,
   "metadata": {},
   "outputs": [
    {
     "name": "stdout",
     "output_type": "stream",
     "text": [
      "Start Training...\n",
      "ensemble size: 1\n",
      "MLPnet(\n",
      "  (network): Sequential(\n",
      "    (0): LinearBlock(\n",
      "      (linear): Linear(in_features=196, out_features=100, bias=False)\n",
      "      (act_layer): ReLU()\n",
      "    )\n",
      "    (1): LinearBlock(\n",
      "      (linear): Linear(in_features=100, out_features=50, bias=False)\n",
      "      (act_layer): ReLU()\n",
      "    )\n",
      "    (2): LinearBlock(\n",
      "      (linear): Linear(in_features=50, out_features=128, bias=False)\n",
      "      (act_layer): Identity()\n",
      "    )\n",
      "  )\n",
      ")\n",
      "epoch  1, training loss: 0.059684, time: 2.6s\n",
      "epoch 10, training loss: 0.000507, time: 2.4s\n",
      "epoch 20, training loss: 0.000281, time: 2.4s\n",
      "epoch 30, training loss: 0.000420, time: 2.5s\n",
      "epoch 40, training loss: 0.000174, time: 2.5s\n",
      "epoch 50, training loss: 0.000803, time: 2.5s\n",
      "epoch 60, training loss: 0.000491, time: 2.4s\n",
      "epoch 70, training loss: 0.000272, time: 2.4s\n",
      "epoch 80, training loss: 0.000149, time: 2.4s\n",
      "epoch 90, training loss: 0.000772, time: 2.4s\n",
      "epoch100, training loss: 0.000140, time: 1.9s\n",
      "Start Inference on the training data...\n"
     ]
    },
    {
     "name": "stderr",
     "output_type": "stream",
     "text": [
      "testing: 100%|██████████| 976/976 [00:00<00:00, 1422.40it/s]\n"
     ]
    },
    {
     "name": "stdout",
     "output_type": "stream",
     "text": [
      "Running Time: 242.78100609779358\n"
     ]
    }
   ],
   "source": [
    "train_start = time.time()\n",
    "clf.fit(attributes, y=None)\n",
    "train_end = time.time()\n",
    "print(\"Running Time:\",train_end - train_start)"
   ]
  },
  {
   "cell_type": "code",
   "execution_count": 10,
   "metadata": {},
   "outputs": [
    {
     "name": "stderr",
     "output_type": "stream",
     "text": [
      "testing: 100%|██████████| 976/976 [00:00<00:00, 1390.94it/s]\n"
     ]
    }
   ],
   "source": [
    "scores = clf.decision_function(attributes)"
   ]
  },
  {
   "cell_type": "code",
   "execution_count": 11,
   "metadata": {},
   "outputs": [],
   "source": [
    "roc = roc_auc_score(y_train, scores)"
   ]
  },
  {
   "cell_type": "code",
   "execution_count": 12,
   "metadata": {},
   "outputs": [],
   "source": [
    "fpr, tpr, thresholds = roc_curve(y_train, scores, pos_label=1)\n",
    "auc_score = auc(fpr, tpr)"
   ]
  },
  {
   "cell_type": "code",
   "execution_count": 13,
   "metadata": {},
   "outputs": [
    {
     "data": {
      "image/png": "[encoded data removed]",
      "text/plain": [
       "<Figure size 640x480 with 1 Axes>"
      ]
     },
     "metadata": {},
     "output_type": "display_data"
    }
   ],
   "source": [
    "plt.plot(fpr, tpr, marker='.')\n",
    "plt.xlabel('False Positive Rate')\n",
    "plt.ylabel('True Positive Rate')\n",
    "plt.title('ROC Curve (AUC={:.2f})'.format(auc_score))\n",
    "plt.show()"
   ]
  },
  {
   "cell_type": "code",
   "execution_count": 14,
   "metadata": {},
   "outputs": [
    {
     "name": "stdout",
     "output_type": "stream",
     "text": [
      "AUROC of test data: 0.5511264926342976\n"
     ]
    }
   ],
   "source": [
    "print(\"AUROC of test data:\", auc_score)"
   ]
  },
  {
   "cell_type": "code",
   "execution_count": 15,
   "metadata": {},
   "outputs": [],
   "source": [
    "precision, recall, thresholds = precision_recall_curve(y_train, scores, pos_label=1)"
   ]
  },
  {
   "cell_type": "code",
   "execution_count": 16,
   "metadata": {},
   "outputs": [],
   "source": [
    "auprc = auc(recall, precision)"
   ]
  },
  {
   "cell_type": "code",
   "execution_count": 17,
   "metadata": {},
   "outputs": [
    {
     "data": {
      "image/png": "[encoded data removed]",
      "text/plain": [
       "<Figure size 640x480 with 1 Axes>"
      ]
     },
     "metadata": {},
     "output_type": "display_data"
    }
   ],
   "source": [
    "plt.plot(recall, precision, marker='.')\n",
    "plt.xlabel('Recall')\n",
    "plt.ylabel('Precision')\n",
    "plt.title('Precision-Recall Curve (AUPRC={:.2f})'.format(auprc))\n",
    "plt.show()"
   ]
  },
  {
   "cell_type": "code",
   "execution_count": 18,
   "metadata": {},
   "outputs": [
    {
     "name": "stdout",
     "output_type": "stream",
     "text": [
      "AUPRC of test data: 0.20736913087457257\n"
     ]
    }
   ],
   "source": [
    "print(\"AUPRC of test data:\", auprc)"
   ]
  },
  {
   "cell_type": "markdown",
   "metadata": {},
   "source": [
    "#### 测试集（标准化）"
   ]
  },
  {
   "cell_type": "code",
   "execution_count": 19,
   "metadata": {},
   "outputs": [
    {
     "data": {
      "text/html": [
       "<div>\n",
       "<style scoped>\n",
       "    .dataframe tbody tr th:only-of-type {\n",
       "        vertical-align: middle;\n",
       "    }\n",
       "\n",
       "    .dataframe tbody tr th {\n",
       "        vertical-align: top;\n",
       "    }\n",
       "\n",
       "    .dataframe thead th {\n",
       "        text-align: right;\n",
       "    }\n",
       "</style>\n",
       "<table border=\"1\" class=\"dataframe\">\n",
       "  <thead>\n",
       "    <tr style=\"text-align: right;\">\n",
       "      <th></th>\n",
       "      <th>1</th>\n",
       "      <th>2</th>\n",
       "      <th>3</th>\n",
       "      <th>4</th>\n",
       "      <th>5</th>\n",
       "      <th>6</th>\n",
       "      <th>7</th>\n",
       "      <th>8</th>\n",
       "      <th>9</th>\n",
       "      <th>10</th>\n",
       "      <th>...</th>\n",
       "      <th>187</th>\n",
       "      <th>188</th>\n",
       "      <th>189</th>\n",
       "      <th>190</th>\n",
       "      <th>191</th>\n",
       "      <th>192</th>\n",
       "      <th>193</th>\n",
       "      <th>194</th>\n",
       "      <th>195</th>\n",
       "      <th>196</th>\n",
       "    </tr>\n",
       "  </thead>\n",
       "  <tbody>\n",
       "    <tr>\n",
       "      <th>0</th>\n",
       "      <td>0.600851</td>\n",
       "      <td>6</td>\n",
       "      <td>2</td>\n",
       "      <td>978</td>\n",
       "      <td>86</td>\n",
       "      <td>11.650143</td>\n",
       "      <td>62</td>\n",
       "      <td>252</td>\n",
       "      <td>1.085128e+04</td>\n",
       "      <td>572.521301</td>\n",
       "      <td>...</td>\n",
       "      <td>False</td>\n",
       "      <td>True</td>\n",
       "      <td>False</td>\n",
       "      <td>False</td>\n",
       "      <td>False</td>\n",
       "      <td>False</td>\n",
       "      <td>False</td>\n",
       "      <td>False</td>\n",
       "      <td>False</td>\n",
       "      <td>False</td>\n",
       "    </tr>\n",
       "    <tr>\n",
       "      <th>1</th>\n",
       "      <td>0.000944</td>\n",
       "      <td>2</td>\n",
       "      <td>2</td>\n",
       "      <td>130</td>\n",
       "      <td>162</td>\n",
       "      <td>3177.966006</td>\n",
       "      <td>31</td>\n",
       "      <td>29</td>\n",
       "      <td>5.508474e+05</td>\n",
       "      <td>686440.687500</td>\n",
       "      <td>...</td>\n",
       "      <td>False</td>\n",
       "      <td>True</td>\n",
       "      <td>False</td>\n",
       "      <td>False</td>\n",
       "      <td>False</td>\n",
       "      <td>False</td>\n",
       "      <td>False</td>\n",
       "      <td>False</td>\n",
       "      <td>False</td>\n",
       "      <td>False</td>\n",
       "    </tr>\n",
       "    <tr>\n",
       "      <th>2</th>\n",
       "      <td>0.001040</td>\n",
       "      <td>2</td>\n",
       "      <td>2</td>\n",
       "      <td>146</td>\n",
       "      <td>178</td>\n",
       "      <td>2884.615377</td>\n",
       "      <td>31</td>\n",
       "      <td>29</td>\n",
       "      <td>5.615384e+05</td>\n",
       "      <td>684615.375000</td>\n",
       "      <td>...</td>\n",
       "      <td>False</td>\n",
       "      <td>True</td>\n",
       "      <td>False</td>\n",
       "      <td>False</td>\n",
       "      <td>False</td>\n",
       "      <td>False</td>\n",
       "      <td>False</td>\n",
       "      <td>False</td>\n",
       "      <td>False</td>\n",
       "      <td>False</td>\n",
       "    </tr>\n",
       "    <tr>\n",
       "      <th>3</th>\n",
       "      <td>1.052931</td>\n",
       "      <td>10</td>\n",
       "      <td>10</td>\n",
       "      <td>804</td>\n",
       "      <td>1152</td>\n",
       "      <td>18.044868</td>\n",
       "      <td>62</td>\n",
       "      <td>252</td>\n",
       "      <td>5.500835e+03</td>\n",
       "      <td>7878.958984</td>\n",
       "      <td>...</td>\n",
       "      <td>False</td>\n",
       "      <td>False</td>\n",
       "      <td>False</td>\n",
       "      <td>True</td>\n",
       "      <td>False</td>\n",
       "      <td>False</td>\n",
       "      <td>False</td>\n",
       "      <td>False</td>\n",
       "      <td>False</td>\n",
       "      <td>False</td>\n",
       "    </tr>\n",
       "    <tr>\n",
       "      <th>4</th>\n",
       "      <td>0.000005</td>\n",
       "      <td>2</td>\n",
       "      <td>0</td>\n",
       "      <td>200</td>\n",
       "      <td>0</td>\n",
       "      <td>200000.005100</td>\n",
       "      <td>254</td>\n",
       "      <td>0</td>\n",
       "      <td>1.600000e+08</td>\n",
       "      <td>0.000000</td>\n",
       "      <td>...</td>\n",
       "      <td>False</td>\n",
       "      <td>False</td>\n",
       "      <td>False</td>\n",
       "      <td>False</td>\n",
       "      <td>True</td>\n",
       "      <td>False</td>\n",
       "      <td>False</td>\n",
       "      <td>False</td>\n",
       "      <td>False</td>\n",
       "      <td>False</td>\n",
       "    </tr>\n",
       "  </tbody>\n",
       "</table>\n",
       "<p>5 rows × 196 columns</p>\n",
       "</div>"
      ],
      "text/plain": [
       "        1    2    3    4     5              6    7    8             9    \\\n",
       "0  0.600851    6    2  978    86      11.650143   62  252  1.085128e+04   \n",
       "1  0.000944    2    2  130   162    3177.966006   31   29  5.508474e+05   \n",
       "2  0.001040    2    2  146   178    2884.615377   31   29  5.615384e+05   \n",
       "3  1.052931   10   10  804  1152      18.044868   62  252  5.500835e+03   \n",
       "4  0.000005    2    0  200     0  200000.005100  254    0  1.600000e+08   \n",
       "\n",
       "             10   ...    187    188    189    190    191    192    193    194  \\\n",
       "0     572.521301  ...  False   True  False  False  False  False  False  False   \n",
       "1  686440.687500  ...  False   True  False  False  False  False  False  False   \n",
       "2  684615.375000  ...  False   True  False  False  False  False  False  False   \n",
       "3    7878.958984  ...  False  False  False   True  False  False  False  False   \n",
       "4       0.000000  ...  False  False  False  False   True  False  False  False   \n",
       "\n",
       "     195    196  \n",
       "0  False  False  \n",
       "1  False  False  \n",
       "2  False  False  \n",
       "3  False  False  \n",
       "4  False  False  \n",
       "\n",
       "[5 rows x 196 columns]"
      ]
     },
     "execution_count": 19,
     "metadata": {},
     "output_type": "execute_result"
    }
   ],
   "source": [
    "y_test = test_data[198]\n",
    "test_attr = test_data.iloc[:, 1:-2]\n",
    "test_attr.head()"
   ]
  },
  {
   "cell_type": "code",
   "execution_count": 20,
   "metadata": {},
   "outputs": [],
   "source": [
    "test_attr = test_attr.astype(np.float32)\n",
    "for col in test_attr.columns:\n",
    "    test_attr[col] = scaler.fit_transform(test_attr[[col]])\n",
    "y_test = y_test.astype(np.float32)\n",
    "\n",
    "test_attr = test_attr.to_numpy(dtype=float)\n",
    "y_test = y_test.to_numpy(dtype=float)\n",
    "\n",
    "test_attr = torch.tensor(test_attr, dtype=torch.float32)\n",
    "y_test = torch.tensor(y_test, dtype=torch.float32)\n",
    "\n",
    "test_attr = test_attr.numpy()\n",
    "y_test = y_test.numpy()"
   ]
  },
  {
   "cell_type": "code",
   "execution_count": 21,
   "metadata": {},
   "outputs": [
    {
     "name": "stderr",
     "output_type": "stream",
     "text": [
      "testing: 100%|██████████| 354/354 [00:00<00:00, 902.97it/s]"
     ]
    },
    {
     "name": "stdout",
     "output_type": "stream",
     "text": [
      "Running Time: 0.4140150547027588 seconds\n"
     ]
    },
    {
     "name": "stderr",
     "output_type": "stream",
     "text": [
      "\n"
     ]
    }
   ],
   "source": [
    "test_start = time.time()\n",
    "test_predictions = clf.predict(test_attr)\n",
    "test_end = time.time()\n",
    "print(\"Running Time:\", test_end - test_start, \"seconds\")"
   ]
  },
  {
   "cell_type": "code",
   "execution_count": 22,
   "metadata": {},
   "outputs": [
    {
     "name": "stderr",
     "output_type": "stream",
     "text": [
      "testing: 100%|██████████| 354/354 [00:00<00:00, 1076.44it/s]\n"
     ]
    }
   ],
   "source": [
    "scores = clf.decision_function(test_attr)"
   ]
  },
  {
   "cell_type": "code",
   "execution_count": 23,
   "metadata": {},
   "outputs": [],
   "source": [
    "roc = roc_auc_score(y_test, scores)"
   ]
  },
  {
   "cell_type": "code",
   "execution_count": 24,
   "metadata": {},
   "outputs": [],
   "source": [
    "fpr, tpr, thresholds = roc_curve(y_test, scores, pos_label=1)\n",
    "auc_score = auc(fpr, tpr)"
   ]
  },
  {
   "cell_type": "code",
   "execution_count": 25,
   "metadata": {},
   "outputs": [
    {
     "data": {
      "image/png": "[encoded data removed]",
      "text/plain": [
       "<Figure size 640x480 with 1 Axes>"
      ]
     },
     "metadata": {},
     "output_type": "display_data"
    }
   ],
   "source": [
    "plt.plot(fpr, tpr, marker='.')\n",
    "plt.xlabel('False Positive Rate')\n",
    "plt.ylabel('True Positive Rate')\n",
    "plt.title('Test ROC Curve (AUC={:.2f})'.format(auc_score))\n",
    "plt.show()"
   ]
  },
  {
   "cell_type": "code",
   "execution_count": 26,
   "metadata": {},
   "outputs": [
    {
     "name": "stdout",
     "output_type": "stream",
     "text": [
      "AUROC of test data: 0.6365459600101856\n"
     ]
    }
   ],
   "source": [
    "print(\"AUROC of test data:\", auc_score)"
   ]
  },
  {
   "cell_type": "code",
   "execution_count": 27,
   "metadata": {},
   "outputs": [],
   "source": [
    "precision, recall, thresholds = precision_recall_curve(y_test, scores, pos_label=1)"
   ]
  },
  {
   "cell_type": "code",
   "execution_count": 28,
   "metadata": {},
   "outputs": [],
   "source": [
    "auprc = auc(recall, precision)"
   ]
  },
  {
   "cell_type": "code",
   "execution_count": 29,
   "metadata": {},
   "outputs": [
    {
     "data": {
      "image/png": "[encoded data removed]",
      "text/plain": [
       "<Figure size 640x480 with 1 Axes>"
      ]
     },
     "metadata": {},
     "output_type": "display_data"
    }
   ],
   "source": [
    "plt.plot(recall, precision, marker='.')\n",
    "plt.xlabel('Recall')\n",
    "plt.ylabel('Precision')\n",
    "plt.title('Test Precision-Recall Curve (AUPRC={:.2f})'.format(auprc))\n",
    "plt.show()"
   ]
  },
  {
   "cell_type": "code",
   "execution_count": 30,
   "metadata": {},
   "outputs": [
    {
     "name": "stdout",
     "output_type": "stream",
     "text": [
      "AUPRC of test data: 0.5462774390680027\n"
     ]
    }
   ],
   "source": [
    "print(\"AUPRC of test data:\", auprc)"
   ]
  }
 ],
 "metadata": {
  "kernelspec": {
   "display_name": "gpaTorch",
   "language": "python",
   "name": "python3"
  },
  "language_info": {
   "codemirror_mode": {
    "name": "ipython",
    "version": 3
   },
   "file_extension": ".py",
   "mimetype": "text/x-python",
   "name": "python",
   "nbconvert_exporter": "python",
   "pygments_lexer": "ipython3",
   "version": "3.9.19"
  }
 },
 "nbformat": 4,
 "nbformat_minor": 2
}
